{
  "nbformat": 4,
  "nbformat_minor": 0,
  "metadata": {
    "kernelspec": {
      "display_name": "Python 3",
      "language": "python",
      "name": "python3"
    },
    "language_info": {
      "codemirror_mode": {
        "name": "ipython",
        "version": 3
      },
      "file_extension": ".py",
      "mimetype": "text/x-python",
      "name": "python",
      "nbconvert_exporter": "python",
      "pygments_lexer": "ipython3",
      "version": "3.8.5"
    },
    "colab": {
      "name": "ComparingGMEwithReddit.ipynb",
      "provenance": [],
      "include_colab_link": true
    }
  },
  "cells": [
    {
      "cell_type": "markdown",
      "metadata": {
        "id": "view-in-github",
        "colab_type": "text"
      },
      "source": [
        "<a href=\"https://colab.research.google.com/github/iomiranda/gme_reddit_stock/blob/main/ComparingGMEwithReddit.ipynb\" target=\"_parent\"><img src=\"https://colab.research.google.com/assets/colab-badge.svg\" alt=\"Open In Colab\"/></a>"
      ]
    },
    {
      "cell_type": "markdown",
      "metadata": {
        "id": "IEj6FzLLl7_c"
      },
      "source": [
        "# Looking at Reddit mentioning GME with their stock prices\n",
        "\n",
        "The subreddit r/wallstreetbets made alot of noise this year with the GME stocks. So I will be looking at when GME is mentioned in a post, and if it correlates with the GME Open prices."
      ]
    },
    {
      "cell_type": "code",
      "metadata": {
        "id": "DA_dL9XSl7_m"
      },
      "source": [
        "import pandas as pd\n",
        "import pandas_datareader.data as web\n",
        "import datetime\n",
        "import matplotlib.pyplot as plt\n",
        "import numpy as np\n",
        "%matplotlib inline"
      ],
      "execution_count": null,
      "outputs": []
    },
    {
      "cell_type": "code",
      "metadata": {
        "id": "y-T3Yc5Gl7_p"
      },
      "source": [
        "reddit_df = pd.read_csv(r'./reddit_wsb.csv')"
      ],
      "execution_count": null,
      "outputs": []
    },
    {
      "cell_type": "markdown",
      "metadata": {
        "id": "sr1SWqyJl7_q"
      },
      "source": [
        "https://www.kaggle.com/gpreda/reddit-wallstreetsbets-posts"
      ]
    },
    {
      "cell_type": "code",
      "metadata": {
        "id": "SsK5r8N6l7_q",
        "outputId": "b1ab6796-547d-49c5-b024-cd645f1da7ed"
      },
      "source": [
        "reddit_df"
      ],
      "execution_count": null,
      "outputs": [
        {
          "output_type": "execute_result",
          "data": {
            "text/html": [
              "<div>\n",
              "<style scoped>\n",
              "    .dataframe tbody tr th:only-of-type {\n",
              "        vertical-align: middle;\n",
              "    }\n",
              "\n",
              "    .dataframe tbody tr th {\n",
              "        vertical-align: top;\n",
              "    }\n",
              "\n",
              "    .dataframe thead th {\n",
              "        text-align: right;\n",
              "    }\n",
              "</style>\n",
              "<table border=\"1\" class=\"dataframe\">\n",
              "  <thead>\n",
              "    <tr style=\"text-align: right;\">\n",
              "      <th></th>\n",
              "      <th>title</th>\n",
              "      <th>score</th>\n",
              "      <th>id</th>\n",
              "      <th>url</th>\n",
              "      <th>comms_num</th>\n",
              "      <th>created</th>\n",
              "      <th>body</th>\n",
              "      <th>timestamp</th>\n",
              "    </tr>\n",
              "  </thead>\n",
              "  <tbody>\n",
              "    <tr>\n",
              "      <th>0</th>\n",
              "      <td>It's not about the money, it's about sending a...</td>\n",
              "      <td>55</td>\n",
              "      <td>l6ulcx</td>\n",
              "      <td>https://v.redd.it/6j75regs72e61</td>\n",
              "      <td>6</td>\n",
              "      <td>1.611863e+09</td>\n",
              "      <td>NaN</td>\n",
              "      <td>2021-01-28 21:37:41</td>\n",
              "    </tr>\n",
              "    <tr>\n",
              "      <th>1</th>\n",
              "      <td>Math Professor Scott Steiner says the numbers ...</td>\n",
              "      <td>110</td>\n",
              "      <td>l6uibd</td>\n",
              "      <td>https://v.redd.it/ah50lyny62e61</td>\n",
              "      <td>23</td>\n",
              "      <td>1.611862e+09</td>\n",
              "      <td>NaN</td>\n",
              "      <td>2021-01-28 21:32:10</td>\n",
              "    </tr>\n",
              "    <tr>\n",
              "      <th>2</th>\n",
              "      <td>Exit the system</td>\n",
              "      <td>0</td>\n",
              "      <td>l6uhhn</td>\n",
              "      <td>https://www.reddit.com/r/wallstreetbets/commen...</td>\n",
              "      <td>47</td>\n",
              "      <td>1.611862e+09</td>\n",
              "      <td>The CEO of NASDAQ pushed to halt trading “to g...</td>\n",
              "      <td>2021-01-28 21:30:35</td>\n",
              "    </tr>\n",
              "    <tr>\n",
              "      <th>3</th>\n",
              "      <td>NEW SEC FILING FOR GME! CAN SOMEONE LESS RETAR...</td>\n",
              "      <td>29</td>\n",
              "      <td>l6ugk6</td>\n",
              "      <td>https://sec.report/Document/0001193125-21-019848/</td>\n",
              "      <td>74</td>\n",
              "      <td>1.611862e+09</td>\n",
              "      <td>NaN</td>\n",
              "      <td>2021-01-28 21:28:57</td>\n",
              "    </tr>\n",
              "    <tr>\n",
              "      <th>4</th>\n",
              "      <td>Not to distract from GME, just thought our AMC...</td>\n",
              "      <td>71</td>\n",
              "      <td>l6ufgy</td>\n",
              "      <td>https://i.redd.it/4h2sukb662e61.jpg</td>\n",
              "      <td>156</td>\n",
              "      <td>1.611862e+09</td>\n",
              "      <td>NaN</td>\n",
              "      <td>2021-01-28 21:26:56</td>\n",
              "    </tr>\n",
              "    <tr>\n",
              "      <th>...</th>\n",
              "      <td>...</td>\n",
              "      <td>...</td>\n",
              "      <td>...</td>\n",
              "      <td>...</td>\n",
              "      <td>...</td>\n",
              "      <td>...</td>\n",
              "      <td>...</td>\n",
              "      <td>...</td>\n",
              "    </tr>\n",
              "    <tr>\n",
              "      <th>46015</th>\n",
              "      <td>AND MY HEART GOES BOOM BOOM BOOM</td>\n",
              "      <td>0</td>\n",
              "      <td>mvixer</td>\n",
              "      <td>https://i.redd.it/vs7oz41hvju61.jpg</td>\n",
              "      <td>43</td>\n",
              "      <td>1.619050e+09</td>\n",
              "      <td>NaN</td>\n",
              "      <td>2021-04-22 03:05:10</td>\n",
              "    </tr>\n",
              "    <tr>\n",
              "      <th>46016</th>\n",
              "      <td>\"Retail investors are ruining the market\"</td>\n",
              "      <td>33899</td>\n",
              "      <td>mvh5fn</td>\n",
              "      <td>https://i.redd.it/dtq5dkbggju61.gif</td>\n",
              "      <td>709</td>\n",
              "      <td>1.619045e+09</td>\n",
              "      <td>NaN</td>\n",
              "      <td>2021-04-22 01:41:55</td>\n",
              "    </tr>\n",
              "    <tr>\n",
              "      <th>46017</th>\n",
              "      <td>TSLA YOLO</td>\n",
              "      <td>32</td>\n",
              "      <td>mvg1tv</td>\n",
              "      <td>https://i.redd.it/e0vi5d707ju61.png</td>\n",
              "      <td>49</td>\n",
              "      <td>1.619042e+09</td>\n",
              "      <td>NaN</td>\n",
              "      <td>2021-04-22 00:48:01</td>\n",
              "    </tr>\n",
              "    <tr>\n",
              "      <th>46018</th>\n",
              "      <td>Earnings hit may 5th, sign me up and make it s...</td>\n",
              "      <td>8</td>\n",
              "      <td>mvfm9a</td>\n",
              "      <td>https://i.redd.it/zszuaigx2ju61.jpg</td>\n",
              "      <td>14</td>\n",
              "      <td>1.619040e+09</td>\n",
              "      <td>NaN</td>\n",
              "      <td>2021-04-22 00:25:10</td>\n",
              "    </tr>\n",
              "    <tr>\n",
              "      <th>46019</th>\n",
              "      <td>$BNGO - Bionano Genomics Announces Sites withi...</td>\n",
              "      <td>130</td>\n",
              "      <td>mvf42m</td>\n",
              "      <td>https://finance.yahoo.com/news/bionano-genomic...</td>\n",
              "      <td>49</td>\n",
              "      <td>1.619039e+09</td>\n",
              "      <td>NaN</td>\n",
              "      <td>2021-04-21 23:57:56</td>\n",
              "    </tr>\n",
              "  </tbody>\n",
              "</table>\n",
              "<p>46020 rows × 8 columns</p>\n",
              "</div>"
            ],
            "text/plain": [
              "                                                   title  score      id  \\\n",
              "0      It's not about the money, it's about sending a...     55  l6ulcx   \n",
              "1      Math Professor Scott Steiner says the numbers ...    110  l6uibd   \n",
              "2                                        Exit the system      0  l6uhhn   \n",
              "3      NEW SEC FILING FOR GME! CAN SOMEONE LESS RETAR...     29  l6ugk6   \n",
              "4      Not to distract from GME, just thought our AMC...     71  l6ufgy   \n",
              "...                                                  ...    ...     ...   \n",
              "46015                   AND MY HEART GOES BOOM BOOM BOOM      0  mvixer   \n",
              "46016          \"Retail investors are ruining the market\"  33899  mvh5fn   \n",
              "46017                                          TSLA YOLO     32  mvg1tv   \n",
              "46018  Earnings hit may 5th, sign me up and make it s...      8  mvfm9a   \n",
              "46019  $BNGO - Bionano Genomics Announces Sites withi...    130  mvf42m   \n",
              "\n",
              "                                                     url  comms_num  \\\n",
              "0                        https://v.redd.it/6j75regs72e61          6   \n",
              "1                        https://v.redd.it/ah50lyny62e61         23   \n",
              "2      https://www.reddit.com/r/wallstreetbets/commen...         47   \n",
              "3      https://sec.report/Document/0001193125-21-019848/         74   \n",
              "4                    https://i.redd.it/4h2sukb662e61.jpg        156   \n",
              "...                                                  ...        ...   \n",
              "46015                https://i.redd.it/vs7oz41hvju61.jpg         43   \n",
              "46016                https://i.redd.it/dtq5dkbggju61.gif        709   \n",
              "46017                https://i.redd.it/e0vi5d707ju61.png         49   \n",
              "46018                https://i.redd.it/zszuaigx2ju61.jpg         14   \n",
              "46019  https://finance.yahoo.com/news/bionano-genomic...         49   \n",
              "\n",
              "            created                                               body  \\\n",
              "0      1.611863e+09                                                NaN   \n",
              "1      1.611862e+09                                                NaN   \n",
              "2      1.611862e+09  The CEO of NASDAQ pushed to halt trading “to g...   \n",
              "3      1.611862e+09                                                NaN   \n",
              "4      1.611862e+09                                                NaN   \n",
              "...             ...                                                ...   \n",
              "46015  1.619050e+09                                                NaN   \n",
              "46016  1.619045e+09                                                NaN   \n",
              "46017  1.619042e+09                                                NaN   \n",
              "46018  1.619040e+09                                                NaN   \n",
              "46019  1.619039e+09                                                NaN   \n",
              "\n",
              "                 timestamp  \n",
              "0      2021-01-28 21:37:41  \n",
              "1      2021-01-28 21:32:10  \n",
              "2      2021-01-28 21:30:35  \n",
              "3      2021-01-28 21:28:57  \n",
              "4      2021-01-28 21:26:56  \n",
              "...                    ...  \n",
              "46015  2021-04-22 03:05:10  \n",
              "46016  2021-04-22 01:41:55  \n",
              "46017  2021-04-22 00:48:01  \n",
              "46018  2021-04-22 00:25:10  \n",
              "46019  2021-04-21 23:57:56  \n",
              "\n",
              "[46020 rows x 8 columns]"
            ]
          },
          "metadata": {
            "tags": []
          },
          "execution_count": 71
        }
      ]
    },
    {
      "cell_type": "code",
      "metadata": {
        "id": "c4OOFbRUl7_u"
      },
      "source": [
        "#Stock Start and End time\n",
        "stock_start = datetime.datetime(2021,1,28)\n",
        "stock_end = datetime.datetime(2021,4,21)"
      ],
      "execution_count": null,
      "outputs": []
    },
    {
      "cell_type": "code",
      "metadata": {
        "id": "TXfdzRHml7_v"
      },
      "source": [
        "#Get Gamestop Stock\n",
        "gme = web.DataReader('GME', 'yahoo', stock_start, stock_end)"
      ],
      "execution_count": null,
      "outputs": []
    },
    {
      "cell_type": "code",
      "metadata": {
        "id": "5w_5_g83l7_v",
        "outputId": "637b9ac5-34af-4780-c4e7-1b814a0ab9ad"
      },
      "source": [
        "gme.head()"
      ],
      "execution_count": null,
      "outputs": [
        {
          "output_type": "execute_result",
          "data": {
            "text/html": [
              "<div>\n",
              "<style scoped>\n",
              "    .dataframe tbody tr th:only-of-type {\n",
              "        vertical-align: middle;\n",
              "    }\n",
              "\n",
              "    .dataframe tbody tr th {\n",
              "        vertical-align: top;\n",
              "    }\n",
              "\n",
              "    .dataframe thead th {\n",
              "        text-align: right;\n",
              "    }\n",
              "</style>\n",
              "<table border=\"1\" class=\"dataframe\">\n",
              "  <thead>\n",
              "    <tr style=\"text-align: right;\">\n",
              "      <th></th>\n",
              "      <th>High</th>\n",
              "      <th>Low</th>\n",
              "      <th>Open</th>\n",
              "      <th>Close</th>\n",
              "      <th>Volume</th>\n",
              "      <th>Adj Close</th>\n",
              "    </tr>\n",
              "    <tr>\n",
              "      <th>Date</th>\n",
              "      <th></th>\n",
              "      <th></th>\n",
              "      <th></th>\n",
              "      <th></th>\n",
              "      <th></th>\n",
              "      <th></th>\n",
              "    </tr>\n",
              "  </thead>\n",
              "  <tbody>\n",
              "    <tr>\n",
              "      <th>2021-01-28</th>\n",
              "      <td>483.000000</td>\n",
              "      <td>112.250000</td>\n",
              "      <td>265.000000</td>\n",
              "      <td>193.600006</td>\n",
              "      <td>58815800</td>\n",
              "      <td>193.600006</td>\n",
              "    </tr>\n",
              "    <tr>\n",
              "      <th>2021-01-29</th>\n",
              "      <td>413.980011</td>\n",
              "      <td>250.000000</td>\n",
              "      <td>379.709991</td>\n",
              "      <td>325.000000</td>\n",
              "      <td>50566100</td>\n",
              "      <td>325.000000</td>\n",
              "    </tr>\n",
              "    <tr>\n",
              "      <th>2021-02-01</th>\n",
              "      <td>322.000000</td>\n",
              "      <td>212.000000</td>\n",
              "      <td>316.559998</td>\n",
              "      <td>225.000000</td>\n",
              "      <td>37382200</td>\n",
              "      <td>225.000000</td>\n",
              "    </tr>\n",
              "    <tr>\n",
              "      <th>2021-02-02</th>\n",
              "      <td>158.000000</td>\n",
              "      <td>74.220001</td>\n",
              "      <td>140.759995</td>\n",
              "      <td>90.000000</td>\n",
              "      <td>78183100</td>\n",
              "      <td>90.000000</td>\n",
              "    </tr>\n",
              "    <tr>\n",
              "      <th>2021-02-03</th>\n",
              "      <td>113.400002</td>\n",
              "      <td>85.250000</td>\n",
              "      <td>112.010002</td>\n",
              "      <td>92.410004</td>\n",
              "      <td>42698500</td>\n",
              "      <td>92.410004</td>\n",
              "    </tr>\n",
              "  </tbody>\n",
              "</table>\n",
              "</div>"
            ],
            "text/plain": [
              "                  High         Low        Open       Close    Volume  \\\n",
              "Date                                                                   \n",
              "2021-01-28  483.000000  112.250000  265.000000  193.600006  58815800   \n",
              "2021-01-29  413.980011  250.000000  379.709991  325.000000  50566100   \n",
              "2021-02-01  322.000000  212.000000  316.559998  225.000000  37382200   \n",
              "2021-02-02  158.000000   74.220001  140.759995   90.000000  78183100   \n",
              "2021-02-03  113.400002   85.250000  112.010002   92.410004  42698500   \n",
              "\n",
              "             Adj Close  \n",
              "Date                    \n",
              "2021-01-28  193.600006  \n",
              "2021-01-29  325.000000  \n",
              "2021-02-01  225.000000  \n",
              "2021-02-02   90.000000  \n",
              "2021-02-03   92.410004  "
            ]
          },
          "metadata": {
            "tags": []
          },
          "execution_count": 74
        }
      ]
    },
    {
      "cell_type": "code",
      "metadata": {
        "id": "e4vZYUa2l7_w"
      },
      "source": [
        "def get_date_str(date):\n",
        "    return date.strftime(\"%Y\") + \"-\" + date.strftime(\"%m\") + \"-\" + date.strftime(\"%d\")"
      ],
      "execution_count": null,
      "outputs": []
    },
    {
      "cell_type": "code",
      "metadata": {
        "id": "WASu9YgKl7_x"
      },
      "source": [
        "#Is keyword in string text\n",
        "def in_string(key, text):\n",
        "    if key in text:\n",
        "        return True\n",
        "    else:\n",
        "        return False"
      ],
      "execution_count": null,
      "outputs": []
    },
    {
      "cell_type": "code",
      "metadata": {
        "id": "SxlQfvuNl7_z"
      },
      "source": [
        "#Get total points from a date where GME is mentioned\n",
        "def get_total_points(date, df, key):\n",
        "    total = 0\n",
        "    for index in range(len(df.index)):\n",
        "        if (get_date_str(date) in df.iloc[index].timestamp) and in_string(key, df.iloc[index].title):\n",
        "            total = total + df.iloc[index].score\n",
        "    return total"
      ],
      "execution_count": null,
      "outputs": []
    },
    {
      "cell_type": "code",
      "metadata": {
        "id": "M4gsVRDhl7_1"
      },
      "source": [
        "#Get how many times GME is mentioned in each date\n",
        "def get_total_mentions(date, df, key):\n",
        "    total = 0\n",
        "    for index in range(len(df.index)):\n",
        "        if (get_date_str(date) in df.iloc[index].timestamp) and in_string(key, df.iloc[index].title):\n",
        "            total = total + 1\n",
        "    return total"
      ],
      "execution_count": null,
      "outputs": []
    },
    {
      "cell_type": "code",
      "metadata": {
        "id": "qUa5YNlyl7_1"
      },
      "source": [
        "#Total points in a day\n",
        "total_points = []\n",
        "#total times 'GME' or 'Gamestop' mentions in a day\n",
        "total_mentions = []\n",
        "\n",
        "gme_dates = gme.index\n",
        "\n",
        "for i in gme_dates:\n",
        "    total_points.append(get_total_points(i, reddit_df, 'GME'))\n",
        "    total_mentions.append(get_total_mentions(i, reddit_df, 'GME'))"
      ],
      "execution_count": null,
      "outputs": []
    },
    {
      "cell_type": "code",
      "metadata": {
        "id": "4tmma3hql7_2"
      },
      "source": [
        "gme_reddit_df = pd.DataFrame({'dates':gme_dates, 'total points': total_points, 'total mentions of GME': total_mentions})"
      ],
      "execution_count": null,
      "outputs": []
    },
    {
      "cell_type": "code",
      "metadata": {
        "id": "nOjEBwRWl7_3",
        "outputId": "75fc2f4a-0aad-489b-d62b-076e31fae3bf"
      },
      "source": [
        "gme_reddit_df.head()"
      ],
      "execution_count": null,
      "outputs": [
        {
          "output_type": "execute_result",
          "data": {
            "text/html": [
              "<div>\n",
              "<style scoped>\n",
              "    .dataframe tbody tr th:only-of-type {\n",
              "        vertical-align: middle;\n",
              "    }\n",
              "\n",
              "    .dataframe tbody tr th {\n",
              "        vertical-align: top;\n",
              "    }\n",
              "\n",
              "    .dataframe thead th {\n",
              "        text-align: right;\n",
              "    }\n",
              "</style>\n",
              "<table border=\"1\" class=\"dataframe\">\n",
              "  <thead>\n",
              "    <tr style=\"text-align: right;\">\n",
              "      <th></th>\n",
              "      <th>dates</th>\n",
              "      <th>total points</th>\n",
              "      <th>total mentions of GME</th>\n",
              "    </tr>\n",
              "  </thead>\n",
              "  <tbody>\n",
              "    <tr>\n",
              "      <th>0</th>\n",
              "      <td>2021-01-28</td>\n",
              "      <td>64354</td>\n",
              "      <td>234</td>\n",
              "    </tr>\n",
              "    <tr>\n",
              "      <th>1</th>\n",
              "      <td>2021-01-29</td>\n",
              "      <td>1047967</td>\n",
              "      <td>2797</td>\n",
              "    </tr>\n",
              "    <tr>\n",
              "      <th>2</th>\n",
              "      <td>2021-02-01</td>\n",
              "      <td>877670</td>\n",
              "      <td>198</td>\n",
              "    </tr>\n",
              "    <tr>\n",
              "      <th>3</th>\n",
              "      <td>2021-02-02</td>\n",
              "      <td>378082</td>\n",
              "      <td>297</td>\n",
              "    </tr>\n",
              "    <tr>\n",
              "      <th>4</th>\n",
              "      <td>2021-02-03</td>\n",
              "      <td>531692</td>\n",
              "      <td>513</td>\n",
              "    </tr>\n",
              "  </tbody>\n",
              "</table>\n",
              "</div>"
            ],
            "text/plain": [
              "       dates  total points  total mentions of GME\n",
              "0 2021-01-28         64354                    234\n",
              "1 2021-01-29       1047967                   2797\n",
              "2 2021-02-01        877670                    198\n",
              "3 2021-02-02        378082                    297\n",
              "4 2021-02-03        531692                    513"
            ]
          },
          "metadata": {
            "tags": []
          },
          "execution_count": 98
        }
      ]
    },
    {
      "cell_type": "code",
      "metadata": {
        "id": "u2NzoZQsl7_4"
      },
      "source": [
        "gme_reddit_df['Datetime'] = pd.to_datetime(gme_reddit_df['dates'])\n",
        "gme_reddit_df = gme_reddit_df.set_index('Datetime')"
      ],
      "execution_count": null,
      "outputs": []
    },
    {
      "cell_type": "code",
      "metadata": {
        "id": "VOOYdZgRl7_4",
        "outputId": "7d60a039-7a87-41f5-d451-23a8f7f69807"
      },
      "source": [
        "#Plotting correlation between Reddit points and mentions\n",
        "\n",
        "from pandas.plotting import scatter_matrix\n",
        "\n",
        "sc_matrix = pd.concat([gme_reddit_df['total points'], gme_reddit_df['total mentions of GME']], axis = 1)\n",
        "sc_matrix.columns = ['Total Points', 'Total Mentions']\n",
        "\n",
        "scatter_matrix(sc_matrix, figsize=(8,8), hist_kwds={'bins':50})"
      ],
      "execution_count": null,
      "outputs": [
        {
          "output_type": "execute_result",
          "data": {
            "text/plain": [
              "array([[<AxesSubplot:xlabel='Total Points', ylabel='Total Points'>,\n",
              "        <AxesSubplot:xlabel='Total Mentions', ylabel='Total Points'>],\n",
              "       [<AxesSubplot:xlabel='Total Points', ylabel='Total Mentions'>,\n",
              "        <AxesSubplot:xlabel='Total Mentions', ylabel='Total Mentions'>]],\n",
              "      dtype=object)"
            ]
          },
          "metadata": {
            "tags": []
          },
          "execution_count": 87
        },
        {
          "output_type": "display_data",
          "data": {
            "image/png": "[encoded data removed]",
            "text/plain": [
              "<Figure size 576x576 with 4 Axes>"
            ]
          },
          "metadata": {
            "tags": [],
            "needs_background": "light"
          }
        }
      ]
    },
    {
      "cell_type": "markdown",
      "metadata": {
        "id": "qF9OYhJWl7_5"
      },
      "source": [
        "# Analysis\n",
        "\n",
        "As we can see from this scatter matrix, you can see that the data from the total points and total mentions form a bit of linearity. So that means that the two reddit attributes we will be getting have correlation."
      ]
    },
    {
      "cell_type": "code",
      "metadata": {
        "id": "t74uI3g_l7_6",
        "outputId": "019c2c6b-bc31-4ce7-dc20-8c7e4358bce9"
      },
      "source": [
        "#Plot graph with total points, mentions and GME open prices at certain dates\n",
        "gme_reddit_df['total points'].plot(label = 'Total Points', figsize=(20,8))\n",
        "gme_reddit_df['total mentions of GME'].plot(label = 'Total Mentions')\n",
        "gme['Open'].plot(label='GME Open Prices')\n",
        "plt.legend()"
      ],
      "execution_count": null,
      "outputs": [
        {
          "output_type": "execute_result",
          "data": {
            "text/plain": [
              "<matplotlib.legend.Legend at 0x7ffab3f36fa0>"
            ]
          },
          "metadata": {
            "tags": []
          },
          "execution_count": 105
        },
        {
          "output_type": "display_data",
          "data": {
            "image/png": "[encoded data removed]",
            "text/plain": [
              "<Figure size 1440x576 with 1 Axes>"
            ]
          },
          "metadata": {
            "tags": [],
            "needs_background": "light"
          }
        }
      ]
    },
    {
      "cell_type": "markdown",
      "metadata": {
        "id": "QB9oZnujl7_6"
      },
      "source": [
        "# Analysis\n",
        "Since it's a bit difficult to see, I will need to graph a scatter matrix to maybe find correlation"
      ]
    },
    {
      "cell_type": "code",
      "metadata": {
        "id": "Uzg1mYyUl7_7",
        "outputId": "044d1191-082b-41c0-a30f-cad22218030d"
      },
      "source": [
        "from pandas.plotting import scatter_matrix\n",
        "\n",
        "sc_matrix = pd.concat([gme['Open'], gme_reddit_df['total points']], axis = 1)\n",
        "sc_matrix.columns = ['GME Open','Total Points']\n",
        "\n",
        "scatter_matrix(sc_matrix, figsize=(8,8), hist_kwds={'bins':50})"
      ],
      "execution_count": null,
      "outputs": [
        {
          "output_type": "execute_result",
          "data": {
            "text/plain": [
              "array([[<AxesSubplot:xlabel='GME Open', ylabel='GME Open'>,\n",
              "        <AxesSubplot:xlabel='Total Points', ylabel='GME Open'>],\n",
              "       [<AxesSubplot:xlabel='GME Open', ylabel='Total Points'>,\n",
              "        <AxesSubplot:xlabel='Total Points', ylabel='Total Points'>]],\n",
              "      dtype=object)"
            ]
          },
          "metadata": {
            "tags": []
          },
          "execution_count": 103
        },
        {
          "output_type": "display_data",
          "data": {
            "image/png": "[encoded data removed]",
            "text/plain": [
              "<Figure size 576x576 with 4 Axes>"
            ]
          },
          "metadata": {
            "tags": [],
            "needs_background": "light"
          }
        }
      ]
    },
    {
      "cell_type": "markdown",
      "metadata": {
        "id": "Nb4vjftwl7_7"
      },
      "source": [
        "# Analysis\n",
        "\n",
        "Looking at the Scatter matrix there isn't a strong correlation. While the attributes all are having a positive trend. The scatter plots are pretty far apart. "
      ]
    },
    {
      "cell_type": "code",
      "metadata": {
        "id": "aTB_Wem6l7_7",
        "outputId": "fa47f877-61b1-4eb0-854e-35e97c786a8e"
      },
      "source": [
        "#Graphing total mentions and GME open prices\n",
        "gme_reddit_df['total mentions of GME'].plot(label = 'Total Mentions')\n",
        "gme['Open'].plot(label='GME Open Prices')\n",
        "plt.legend()"
      ],
      "execution_count": null,
      "outputs": [
        {
          "output_type": "execute_result",
          "data": {
            "text/plain": [
              "<matplotlib.legend.Legend at 0x7ffab4942c70>"
            ]
          },
          "metadata": {
            "tags": []
          },
          "execution_count": 106
        },
        {
          "output_type": "display_data",
          "data": {
            "image/png": "[encoded data removed]",
            "text/plain": [
              "<Figure size 432x288 with 1 Axes>"
            ]
          },
          "metadata": {
            "tags": [],
            "needs_background": "light"
          }
        }
      ]
    },
    {
      "cell_type": "markdown",
      "metadata": {
        "id": "MZL4HmMOl7_8"
      },
      "source": [
        "Here when comparing the total time $GME is mentioned along with the GME open prices seem to match a bit. "
      ]
    },
    {
      "cell_type": "markdown",
      "metadata": {
        "id": "pPt1ZAgMl7_9"
      },
      "source": [
        "# Conclusion\n",
        "\n",
        "Currently it looks like the total mentions and GME open prices go hand in hand, and they seem to be on a stable trend. So I will be buying into the GME stock."
      ]
    }
  ]
}